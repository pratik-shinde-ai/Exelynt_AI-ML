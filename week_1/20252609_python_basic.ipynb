{
 "cells": [
  {
   "cell_type": "code",
   "execution_count": 1,
   "id": "2d5a4756",
   "metadata": {},
   "outputs": [
    {
     "name": "stdout",
     "output_type": "stream",
     "text": [
      "heloo\n"
     ]
    }
   ],
   "source": [
    "print(\"heloo\")"
   ]
  },
  {
   "cell_type": "code",
   "execution_count": 24,
   "id": "1d67d1fd",
   "metadata": {},
   "outputs": [
    {
     "name": "stdout",
     "output_type": "stream",
     "text": [
      "PRATIK\n",
      "pratik\n",
      "Pratik\n",
      "['Pratik']\n",
      "6\n"
     ]
    }
   ],
   "source": [
    "str1=\"Pratik\"\n",
    "print(str1.upper())\n",
    "print(str1.lower())\n",
    "print(str1.strip())\n",
    "print(str1.split())\n",
    "print(len(str1))\n"
   ]
  },
  {
   "cell_type": "code",
   "execution_count": 26,
   "id": "f81d609d",
   "metadata": {},
   "outputs": [
    {
     "name": "stdout",
     "output_type": "stream",
     "text": [
      "tik\n"
     ]
    }
   ],
   "source": [
    "print(str1[-3:])"
   ]
  },
  {
   "cell_type": "code",
   "execution_count": 35,
   "id": "bc787c41",
   "metadata": {},
   "outputs": [
    {
     "name": "stdout",
     "output_type": "stream",
     "text": [
      "Pratik Nanasaheb Shinde\n"
     ]
    }
   ],
   "source": [
    "str2=\"pratik nanasaheb shinde\"\n",
    "print(str2.title())"
   ]
  },
  {
   "cell_type": "code",
   "execution_count": 28,
   "id": "22c940c9",
   "metadata": {},
   "outputs": [
    {
     "name": "stdout",
     "output_type": "stream",
     "text": [
      "my age is 13\n"
     ]
    }
   ],
   "source": [
    "age=13\n",
    "print(f\"my age is {age}\")"
   ]
  },
  {
   "cell_type": "code",
   "execution_count": 30,
   "id": "05e70d9f",
   "metadata": {},
   "outputs": [
    {
     "name": "stdout",
     "output_type": "stream",
     "text": [
      "Pratik nanasaheb shinde\n"
     ]
    }
   ],
   "source": [
    "print(str2.capitalize())"
   ]
  },
  {
   "cell_type": "code",
   "execution_count": 36,
   "id": "2ee57e5f",
   "metadata": {},
   "outputs": [
    {
     "name": "stdout",
     "output_type": "stream",
     "text": [
      "False\n"
     ]
    }
   ],
   "source": [
    "print(str2.isalpha())"
   ]
  },
  {
   "cell_type": "code",
   "execution_count": 37,
   "id": "d5e28501",
   "metadata": {},
   "outputs": [
    {
     "name": "stdout",
     "output_type": "stream",
     "text": [
      "Pratik nanasaheb shinde\n"
     ]
    }
   ],
   "source": [
    "print(str2.replace(\"p\",\"P\"))"
   ]
  },
  {
   "cell_type": "code",
   "execution_count": 39,
   "id": "aaea29db",
   "metadata": {},
   "outputs": [
    {
     "name": "stdout",
     "output_type": "stream",
     "text": [
      "❌ Notebook is invalid: Notebook does not appear to be JSON: ''\n"
     ]
    }
   ],
   "source": [
    "import nbformat\n",
    "\n",
    "# Try to read your notebook\n",
    "with open(\"20252609_python_basic.ipynb\", \"r\", encoding=\"utf-8\") as f:\n",
    "    try:\n",
    "        nb = nbformat.read(f, as_version=4)\n",
    "        print(\"✅ Notebook is valid!\")\n",
    "    except Exception as e:\n",
    "        print(\"❌ Notebook is invalid:\", e)\n"
   ]
  }
 ],
 "metadata": {
  "kernelspec": {
   "display_name": "base",
   "language": "python",
   "name": "python3"
  },
  "language_info": {
   "codemirror_mode": {
    "name": "ipython",
    "version": 3
   },
   "file_extension": ".py",
   "mimetype": "text/x-python",
   "name": "python",
   "nbconvert_exporter": "python",
   "pygments_lexer": "ipython3",
   "version": "3.12.7"
  }
 },
 "nbformat": 4,
 "nbformat_minor": 5
}

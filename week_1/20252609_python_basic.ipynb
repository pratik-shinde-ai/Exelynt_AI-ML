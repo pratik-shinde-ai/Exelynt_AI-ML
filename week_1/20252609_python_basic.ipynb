{
 "cells": [
  {
   "cell_type": "code",
   "execution_count": 53,
   "id": "2d5a4756",
   "metadata": {},
   "outputs": [
    {
     "name": "stdout",
     "output_type": "stream",
     "text": [
      "heloo\n"
     ]
    }
   ],
   "source": [
    "print(\"heloo\")"
   ]
  },
  {
   "cell_type": "markdown",
   "id": "0e9b25b4",
   "metadata": {},
   "source": [
    "# String \n"
   ]
  },
  {
   "cell_type": "code",
   "execution_count": 89,
   "id": "1d67d1fd",
   "metadata": {},
   "outputs": [
    {
     "name": "stdout",
     "output_type": "stream",
     "text": [
      "PRATIK\n",
      "pratik\n",
      "Pratik\n",
      "['Pratik']\n",
      "6\n"
     ]
    }
   ],
   "source": [
    "# string method\n",
    "str1=\"Pratik\"\n",
    "print(str1.upper())\n",
    "print(str1.lower())\n",
    "print(str1.strip())\n",
    "print(str1.split())\n",
    "print(len(str1))\n"
   ]
  },
  {
   "cell_type": "markdown",
   "id": "5458b540",
   "metadata": {},
   "source": [
    "# String Slacing\n"
   ]
  },
  {
   "cell_type": "code",
   "execution_count": 111,
   "id": "f81d609d",
   "metadata": {},
   "outputs": [
    {
     "name": "stdout",
     "output_type": "stream",
     "text": [
      "tik\n"
     ]
    }
   ],
   "source": [
    "#slicing\n",
    "print(str1[-3:])"
   ]
  },
  {
   "cell_type": "code",
   "execution_count": 106,
   "id": "22c940c9",
   "metadata": {},
   "outputs": [
    {
     "name": "stdout",
     "output_type": "stream",
     "text": [
      "my age is 13\n"
     ]
    }
   ],
   "source": [
    "age=13\n",
    "print(f\"my age is {age}\")"
   ]
  },
  {
   "cell_type": "code",
   "execution_count": 107,
   "id": "05e70d9f",
   "metadata": {},
   "outputs": [
    {
     "name": "stdout",
     "output_type": "stream",
     "text": [
      "Pratik nanasaheb shinde\n"
     ]
    }
   ],
   "source": [
    "print(str2.capitalize())"
   ]
  },
  {
   "cell_type": "code",
   "execution_count": 108,
   "id": "2ee57e5f",
   "metadata": {},
   "outputs": [
    {
     "name": "stdout",
     "output_type": "stream",
     "text": [
      "False\n"
     ]
    }
   ],
   "source": [
    "print(str2.isalpha())"
   ]
  },
  {
   "cell_type": "code",
   "execution_count": 109,
   "id": "d5e28501",
   "metadata": {},
   "outputs": [
    {
     "name": "stdout",
     "output_type": "stream",
     "text": [
      "Pratik nanasaheb shinde\n"
     ]
    }
   ],
   "source": [
    "print(str2.replace(\"p\",\"P\"))"
   ]
  },
  {
   "cell_type": "code",
   "execution_count": 112,
   "id": "00aea2bc",
   "metadata": {},
   "outputs": [
    {
     "name": "stdout",
     "output_type": "stream",
     "text": [
      "400\n"
     ]
    }
   ],
   "source": [
    "#python oprator\n",
    "a=20\n",
    "b=2\n",
    "c=a**b\n",
    "print(c)"
   ]
  },
  {
   "cell_type": "code",
   "execution_count": 116,
   "id": "8f418084",
   "metadata": {},
   "outputs": [
    {
     "name": "stdout",
     "output_type": "stream",
     "text": [
      "you eligible for voting\n",
      "but you are student\n"
     ]
    }
   ],
   "source": [
    "age=20\n",
    "if(age>=18):\n",
    "    print(\"you eligible for voting\")\n",
    "    if(age<24):\n",
    "        print(\"but you are student\")\n",
    "else:\n",
    "    print(\"not eligible\")\n"
   ]
  }
 ],
 "metadata": {
  "kernelspec": {
   "display_name": "base",
   "language": "python",
   "name": "python3"
  },
  "language_info": {
   "codemirror_mode": {
    "name": "ipython",
    "version": 3
   },
   "file_extension": ".py",
   "mimetype": "text/x-python",
   "name": "python",
   "nbconvert_exporter": "python",
   "pygments_lexer": "ipython3",
   "version": "3.12.7"
  }
 },
 "nbformat": 4,
 "nbformat_minor": 5
}
